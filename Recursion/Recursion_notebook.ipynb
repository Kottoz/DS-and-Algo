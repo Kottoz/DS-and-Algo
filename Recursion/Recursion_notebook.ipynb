{
 "metadata": {
  "language_info": {
   "codemirror_mode": {
    "name": "ipython",
    "version": 3
   },
   "file_extension": ".py",
   "mimetype": "text/x-python",
   "name": "python",
   "nbconvert_exporter": "python",
   "pygments_lexer": "ipython3",
   "version": "3.6.12-final"
  },
  "orig_nbformat": 2,
  "kernelspec": {
   "name": "python3",
   "display_name": "Python 3",
   "language": "python"
  }
 },
 "nbformat": 4,
 "nbformat_minor": 2,
 "cells": [
  {
   "source": [
    "### Factorial"
   ],
   "cell_type": "markdown",
   "metadata": {}
  },
  {
   "cell_type": "code",
   "execution_count": 3,
   "metadata": {},
   "outputs": [],
   "source": [
    "def factorial(num):\n",
    "    if num == 0:\n",
    "        return 1\n",
    "    else:\n",
    "        return factorial(num-1)*num"
   ]
  },
  {
   "cell_type": "code",
   "execution_count": 4,
   "metadata": {},
   "outputs": [
    {
     "output_type": "execute_result",
     "data": {
      "text/plain": [
       "120"
      ]
     },
     "metadata": {},
     "execution_count": 4
    }
   ],
   "source": [
    "factorial(5)"
   ]
  },
  {
   "cell_type": "code",
   "execution_count": 7,
   "metadata": {},
   "outputs": [],
   "source": [
    "#Debugging\n",
    "def debug(func):\n",
    "    def wrapper(*args, **kwargs):\n",
    "        args_repr = [repr(arg) for arg in args]\n",
    "        kwargs_repr = [f\"{k}={v!r}\" for key, value in kwargs.items()]\n",
    "        signature = ', '.join(args_repr + kwargs_repr)\n",
    "        print(f\"Calling {func.__name__}({signature})\")\n",
    "        value = func(*args, **kwargs)\n",
    "        print(f\"{func.__name__!r} returned {value!r}\")\n",
    "        return value\n",
    "    return wrapper\n"
   ]
  },
  {
   "cell_type": "code",
   "execution_count": 50,
   "metadata": {},
   "outputs": [],
   "source": [
    "import time\n",
    "def timer(func):\n",
    "    def wrapper(*args, **kwargs):\n",
    "        s1 = time.time()\n",
    "        func(*args, **kwargs)\n",
    "        s2 = time.time()\n",
    "    print(s2-s1)\n",
    "    return wrapper\n",
    "        "
   ]
  },
  {
   "cell_type": "code",
   "execution_count": 51,
   "metadata": {},
   "outputs": [],
   "source": [
    "@debug\n",
    "def factorial(num):\n",
    "    if num == 0:\n",
    "        return 1\n",
    "    else:\n",
    "        return factorial(num-1)*num"
   ]
  },
  {
   "cell_type": "code",
   "execution_count": 52,
   "metadata": {
    "tags": []
   },
   "outputs": [
    {
     "output_type": "stream",
     "name": "stdout",
     "text": [
      "Calling factorial(5)\nCalling factorial(4)\nCalling factorial(3)\nCalling factorial(2)\nCalling factorial(1)\nCalling factorial(0)\n'factorial' returned 1\n'factorial' returned 1\n'factorial' returned 2\n'factorial' returned 6\n'factorial' returned 24\n'factorial' returned 120\n"
     ]
    },
    {
     "output_type": "execute_result",
     "data": {
      "text/plain": [
       "'Factorial of 5 is equal 120'"
      ]
     },
     "metadata": {},
     "execution_count": 52
    }
   ],
   "source": [
    "num = 5\n",
    "v = factorial(num)\n",
    "f\"Factorial of {num} is equal {v}\""
   ]
  },
  {
   "source": [
    "### Drawing an English Ruller."
   ],
   "cell_type": "markdown",
   "metadata": {}
  },
  {
   "cell_type": "code",
   "execution_count": 53,
   "metadata": {},
   "outputs": [],
   "source": [
    "def draw_line(num_ticks):\n",
    "    print(num_ticks * '-')"
   ]
  },
  {
   "cell_type": "code",
   "execution_count": 54,
   "metadata": {},
   "outputs": [],
   "source": [
    "@debug\n",
    "def draw_intervals(num_ticks):\n",
    "    if num_ticks > 0:\n",
    "        draw_intervals(num_ticks - 1)\n",
    "        draw_line(num_ticks)\n",
    "        draw_intervals(num_ticks - 1)"
   ]
  },
  {
   "cell_type": "code",
   "execution_count": 55,
   "metadata": {},
   "outputs": [
    {
     "output_type": "stream",
     "name": "stdout",
     "text": [
      "Calling draw_intervals(2)\nCalling draw_intervals(1)\nCalling draw_intervals(0)\n'draw_intervals' returned None\n-\nCalling draw_intervals(0)\n'draw_intervals' returned None\n'draw_intervals' returned None\n--\nCalling draw_intervals(1)\nCalling draw_intervals(0)\n'draw_intervals' returned None\n-\nCalling draw_intervals(0)\n'draw_intervals' returned None\n'draw_intervals' returned None\n'draw_intervals' returned None\n"
     ]
    }
   ],
   "source": [
    "draw_intervals(2)"
   ]
  },
  {
   "source": [
    "## Binary Search\n",
    "binary search, that is used to efficiently locate a target value within a sorted sequence of ```n``` elements"
   ],
   "cell_type": "markdown",
   "metadata": {}
  },
  {
   "cell_type": "code",
   "execution_count": 95,
   "metadata": {},
   "outputs": [],
   "source": [
    "def binary_search(data, target, low, high):\n",
    "    mid = (low + high)//2\n",
    "    if len(data) == 0:\n",
    "        return False\n",
    "    else:\n",
    "        if target == data[mid]:\n",
    "            return True\n",
    "\n",
    "        elif target > data[mid]:\n",
    "            binary_search(data, target, mid+1, high)\n",
    "\n",
    "        elif target < data[mid]:\n",
    "            binary_search(data, target, low, mid-1)\n"
   ]
  },
  {
   "cell_type": "code",
   "execution_count": 102,
   "metadata": {},
   "outputs": [],
   "source": [
    "import numpy as np\n",
    "arr = np.arange(0, 50)"
   ]
  },
  {
   "cell_type": "code",
   "execution_count": 103,
   "metadata": {},
   "outputs": [],
   "source": [
    "pos = binary_search(arr, 22, 0, len(arr))"
   ]
  },
  {
   "source": [
    "### Disk Usage"
   ],
   "cell_type": "markdown",
   "metadata": {}
  },
  {
   "cell_type": "code",
   "execution_count": 104,
   "metadata": {},
   "outputs": [],
   "source": [
    "import os"
   ]
  },
  {
   "cell_type": "code",
   "execution_count": 119,
   "metadata": {},
   "outputs": [],
   "source": [
    "def disk_usage(path):\n",
    "    total = os.path.getsize(path)\n",
    "    if os.path.isdir(path):\n",
    "        for filename in os.listdir(path):\n",
    "            childpath = os.path.join(path, filename)\n",
    "            total += disk_usage(childpath)\n",
    "    print('{0:<7}' .format(total), path)\n",
    "    return total\n"
   ]
  },
  {
   "cell_type": "code",
   "execution_count": 121,
   "metadata": {
    "tags": []
   },
   "outputs": [
    {
     "output_type": "stream",
     "name": "stdout",
     "text": [
      "1067    D:\\Education\\Algorithims\\courses\\DS and Algo\\Recursion\\README.md\n6355    D:\\Education\\Algorithims\\courses\\DS and Algo\\Recursion\\Recursion_notebook.ipynb\n454     D:\\Education\\Algorithims\\courses\\DS and Algo\\Recursion\\test.py\n7876    D:\\Education\\Algorithims\\courses\\DS and Algo\\Recursion\n"
     ]
    },
    {
     "output_type": "execute_result",
     "data": {
      "text/plain": [
       "7876"
      ]
     },
     "metadata": {},
     "execution_count": 121
    }
   ],
   "source": [
    "path ='D:\\Education\\Algorithims\\courses\\DS and Algo\\Recursion'\n",
    "disk_usage(path)"
   ]
  },
  {
   "cell_type": "code",
   "execution_count": null,
   "metadata": {},
   "outputs": [],
   "source": []
  }
 ]
}