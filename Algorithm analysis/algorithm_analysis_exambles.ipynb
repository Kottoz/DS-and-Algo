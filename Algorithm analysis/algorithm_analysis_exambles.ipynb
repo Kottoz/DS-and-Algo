{
 "metadata": {
  "language_info": {
   "codemirror_mode": {
    "name": "ipython",
    "version": 3
   },
   "file_extension": ".py",
   "mimetype": "text/x-python",
   "name": "python",
   "nbconvert_exporter": "python",
   "pygments_lexer": "ipython3",
   "version": "3.6.12-final"
  },
  "orig_nbformat": 2,
  "kernelspec": {
   "name": "python3",
   "display_name": "Python 3.6.12 64-bit ('tf2': conda)",
   "metadata": {
    "interpreter": {
     "hash": "f5c98d5dd77022b68c2195d20a02f749154dded706aacc8811bdabfa3fab50a8"
    }
   }
  }
 },
 "nbformat": 4,
 "nbformat_minor": 2,
 "cells": [
  {
   "source": [
    "### Finding the Maximum of a Sequence\n",
    "finding the largest value in a sequence"
   ],
   "cell_type": "markdown",
   "metadata": {}
  },
  {
   "cell_type": "code",
   "execution_count": 7,
   "metadata": {},
   "outputs": [],
   "source": [
    "import math\n",
    "def find_max(lst):\n",
    "    max_element = -math.inf\n",
    "    for i in lst:\n",
    "        if i > max_element:\n",
    "            max_element = i\n",
    "    return max_element"
   ]
  },
  {
   "cell_type": "code",
   "execution_count": 30,
   "metadata": {},
   "outputs": [],
   "source": [
    "import numpy as np \n",
    "lst = np.arange(1, 500).tolist()\n",
    "max_element = find_max(lst)"
   ]
  },
  {
   "source": [
    "### Prefix average\n",
    "computing a prefix averages of a sequence of numbers"
   ],
   "cell_type": "markdown",
   "metadata": {}
  },
  {
   "cell_type": "code",
   "execution_count": 48,
   "metadata": {},
   "outputs": [],
   "source": [
    "def prefix_avg(seq):\n",
    "    total = 0\n",
    "    A = [0] * len(seq)\n",
    "    for i in range(len(seq)):\n",
    "        total += seq[i]\n",
    "        A[i] = (total) / (i+1)\n",
    "    return A"
   ]
  },
  {
   "cell_type": "code",
   "execution_count": null,
   "metadata": {},
   "outputs": [],
   "source": []
  },
  {
   "cell_type": "code",
   "execution_count": null,
   "metadata": {},
   "outputs": [],
   "source": []
  }
 ]
}