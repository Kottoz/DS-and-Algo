{
 "metadata": {
  "language_info": {
   "codemirror_mode": {
    "name": "ipython",
    "version": 3
   },
   "file_extension": ".py",
   "mimetype": "text/x-python",
   "name": "python",
   "nbconvert_exporter": "python",
   "pygments_lexer": "ipython3",
   "version": "3.6.12-final"
  },
  "orig_nbformat": 2,
  "kernelspec": {
   "name": "python3",
   "display_name": "Python 3",
   "language": "python"
  }
 },
 "nbformat": 4,
 "nbformat_minor": 2,
 "cells": [
  {
   "source": [
    "### R-2.4 Write a Python class, Flower, that has three instance variables of type ```str```, ```int```, and ```float```, that respectively represent the name of the flower, its number of petals, and its price. Your class must include a constructor method that initializes each variable to an appropriate value, and your class should include methods for setting the value of each type, and retrieving the value of each type."
   ],
   "cell_type": "markdown",
   "metadata": {}
  },
  {
   "cell_type": "code",
   "execution_count": 83,
   "metadata": {},
   "outputs": [],
   "source": [
    "class Flower:\n",
    "    def __init__(self, flower_type=None, num_petals=None, price=None):\n",
    "        # self._flower_type = self._num_petals = self._price = None\n",
    "\n",
    "        self._set_flower_type(flower_type)\n",
    "        self._set_num_petals(num_petals)\n",
    "        self._set_price(price)\n",
    "    \n",
    "    def _set_flower_type(self, flower_type):\n",
    "            \n",
    "        if not type(flower_type) == str:\n",
    "            raise ValueError(\"Invalid input name, it must be a string\")\n",
    "        self._flower_type = flower_type\n",
    "    \n",
    "    def _set_num_petals(self, num_petals):\n",
    "        if not type(num_petals) == int:\n",
    "            raise ValueError(\"Invalid input type, it must be a Integer\")\n",
    "        self._num_petals = num_petals\n",
    "\n",
    "\n",
    "    def _set_price(self, price):\n",
    "        if not type(price) == float:\n",
    "            raise ValueError(\"Invalid input price, it must be a float ex:. 2.0\")\n",
    "        self._price = price\n",
    "\n",
    "\n",
    "    def get_flower_type(self):\n",
    "        if self._flower_type is None: return (\"Attribute has not been set\")\n",
    "        return self._flower_type\n",
    "    \n",
    "    def get_number_of_petals(self):\n",
    "        if self._num_petals is None: return (\"Attribute has not been set\")\n",
    "        return self._num_petals\n",
    "    \n",
    "    def get_price(self):\n",
    "        if self._price is None: return (\"Attribute has not been set\")\n",
    "        return self._price"
   ]
  },
  {
   "source": [
    "### R-2.5 Use the techniques of Section 1.7 to revise the charge and make payment methods of the CreditCard class to ensure that the caller sends a number as a parameter."
   ],
   "cell_type": "markdown",
   "metadata": {}
  },
  {
   "cell_type": "code",
   "execution_count": 114,
   "metadata": {},
   "outputs": [],
   "source": [
    "class CreditCard:\n",
    "    \"\"\"A consumer credit card.\"\"\"\n",
    "    def __init__(self, customer, bank, acount, limit):\n",
    "        \"\"\"Create a new credit card instance\"\"\"\n",
    "        \"\"\"\n",
    "        \n",
    "        The initial balance is zero.\n",
    "        customer the name of the customer (e.g., John Bowman )\n",
    "        bank the name of the bank (e.g., California Savings )\n",
    "        acnt the acount identifier (e.g., 5391 0375 9387 5309 )\n",
    "        limit credit limit (measured in dollars)\n",
    "        \n",
    "        \"\"\"\n",
    "\n",
    "        self._customer = customer\n",
    "        self._bank = bank\n",
    "        self._account = acount\n",
    "        self._limit = limit\n",
    "        self._balance = 0 \n",
    "\n",
    "    def get_customer(self):\n",
    "        \"\"\"Return customer name\"\"\"\n",
    "        return self._customer\n",
    "        \n",
    "    def get_bank(self):\n",
    "        \"\"\"Return bank name\"\"\"\n",
    "        return self._bank\n",
    "        \n",
    "    def get_account(self):\n",
    "        \"\"\"Return account id\"\"\"\n",
    "        return self._account\n",
    "\n",
    "    def get_limit(self):\n",
    "        \"\"\"Return card limit\"\"\"\n",
    "        return self._limit\n",
    "        \n",
    "    def get_balance(self):\n",
    "        \"\"\"Return current account balance\"\"\"\n",
    "        return self._balance\n",
    "\n",
    "    # def charge(self, price):\n",
    "    #     \"\"\"\n",
    "    #     Charge given price to the card, assuming sufficient credit limit. \n",
    "    #     Return True if charge was processed; False if charge was denied.\n",
    "    #     \"\"\"\n",
    "    #     if not (type(price) == float or type(price) == int):\n",
    "    #         raise ValueError(\"Invalid input type, it must be a Number\")\n",
    "    #     if price + self._balance > self._limit:\n",
    "    #         return False\n",
    "    #     else:\n",
    "    #         self._balance += price\n",
    "    #         return True\n",
    "\n",
    "    def charge(self, price):\n",
    "        \"\"\"\n",
    "        Charge given price to the card, assuming sufficient credit limit. \n",
    "        Return True if charge was processed; False if charge was denied.\n",
    "        \"\"\"\n",
    "        try:\n",
    "            price = float(price)\n",
    "        except:\n",
    "            print ('Invalid input')\n",
    "            return False\n",
    "            \n",
    "        if price + self._balance > self._limit:\n",
    "            return False\n",
    "        else:\n",
    "            self._balance += price\n",
    "            return True\n",
    "            \n",
    "    def make_payment(self, amount):\n",
    "        \"\"\"\n",
    "        Process customer payment that reduces balance\n",
    "        \"\"\"\n",
    "        # if not (type(amount) == float or type(amount) == int):\n",
    "        #     raise ValueError(\"Invalid input type, it must be a Number\")\n",
    "        try:\n",
    "            price = float(amount)\n",
    "        except:\n",
    "            print ('Invalid input')\n",
    "            return False\n",
    "\n",
    "        self._balance -= amount\n",
    "        return True\n",
    "\n"
   ]
  },
  {
   "cell_type": "code",
   "execution_count": 115,
   "metadata": {},
   "outputs": [],
   "source": [
    "cc = CreditCard('Mohamed', 'Alex bank', \"415 154 351\", 1000)"
   ]
  },
  {
   "cell_type": "code",
   "execution_count": 116,
   "metadata": {},
   "outputs": [
    {
     "output_type": "execute_result",
     "data": {
      "text/plain": [
       "True"
      ]
     },
     "metadata": {},
     "execution_count": 116
    }
   ],
   "source": [
    "cc.make_payment(5)"
   ]
  },
  {
   "cell_type": "code",
   "execution_count": 117,
   "metadata": {},
   "outputs": [
    {
     "output_type": "stream",
     "name": "stdout",
     "text": [
      "-100\n0.0\n500.0\n700.0\n800.0\n800.0\nInvalid input\n800.0\n820.0\n820.0\n"
     ]
    }
   ],
   "source": [
    "cc1 = CreditCard('Andrew', 'ABC', '1234567890', 1000)\n",
    "cc1.make_payment(100); print(cc1.get_balance())\n",
    "cc1.charge(100); print(cc1.get_balance()) \n",
    "cc1.charge(500); print(cc1.get_balance()) \n",
    "cc1.charge(200); print(cc1.get_balance()) \n",
    "cc1.charge(100); print(cc1.get_balance()) \n",
    "cc1.charge(500); print(cc1.get_balance()) \n",
    "cc1.charge(\"Hello\"); print(cc1.get_balance())\n",
    "cc1.charge(\"20\"); print(cc1.get_balance())\n",
    "cc1.charge(\"453.4\"); print(cc1.get_balance())"
   ]
  },
  {
   "source": [
    "### R-2.6 If the parameter to the make payment method of the CreditCard class were a negative number, that would have the effect of raising the balance on the account. Revise the implementation so that it raises a ValueError if a negative value is sent."
   ],
   "cell_type": "markdown",
   "metadata": {}
  },
  {
   "cell_type": "code",
   "execution_count": 130,
   "metadata": {},
   "outputs": [],
   "source": [
    "class CreditCard:\n",
    "    \"\"\"A consumer credit card.\"\"\"\n",
    "    def __init__(self, customer, bank, acount, limit):\n",
    "        \"\"\"Create a new credit card instance\"\"\"\n",
    "        \"\"\"\n",
    "        \n",
    "        The initial balance is zero.\n",
    "        customer the name of the customer (e.g., John Bowman )\n",
    "        bank the name of the bank (e.g., California Savings )\n",
    "        acnt the acount identifier (e.g., 5391 0375 9387 5309 )\n",
    "        limit credit limit (measured in dollars)\n",
    "        \n",
    "        \"\"\"\n",
    "\n",
    "        self._customer = customer\n",
    "        self._bank = bank\n",
    "        self._account = acount\n",
    "        self._limit = limit\n",
    "        self._balance = 0 \n",
    "\n",
    "    def get_customer(self):\n",
    "        \"\"\"Return customer name\"\"\"\n",
    "        return self._customer\n",
    "        \n",
    "    def get_bank(self):\n",
    "        \"\"\"Return bank name\"\"\"\n",
    "        return self._bank\n",
    "        \n",
    "    def get_account(self):\n",
    "        \"\"\"Return account id\"\"\"\n",
    "        return self._account\n",
    "\n",
    "    def get_limit(self):\n",
    "        \"\"\"Return card limit\"\"\"\n",
    "        return self._limit\n",
    "        \n",
    "    def get_balance(self):\n",
    "        \"\"\"Return current account balance\"\"\"\n",
    "        return self._balance\n",
    "\n",
    "\n",
    "    def charge(self, price):\n",
    "        \"\"\"\n",
    "        Charge given price to the card, assuming sufficient credit limit. \n",
    "        Return True if charge was processed; False if charge was denied.\n",
    "        \"\"\"\n",
    "        try:\n",
    "            price = float(price)\n",
    "        except:\n",
    "            print ('Invalid input')\n",
    "            return False\n",
    "            \n",
    "        if price + self._balance > self._limit:\n",
    "            return False\n",
    "        else:\n",
    "            self._balance += price\n",
    "            return True\n",
    "            \n",
    "    def make_payment(self, amount):\n",
    "        \"\"\"\n",
    "        Process customer payment that reduces balance\n",
    "        \"\"\"\n",
    "        try:\n",
    "            price = float(amount)\n",
    "\n",
    "        except:\n",
    "            print ('Invalid input')\n",
    "            return False\n",
    "        if price < 0:\n",
    "            raise ValueError(\"Invalid Input, Enter Positive Amount\")\n",
    "        else:\n",
    "            self._balance -= amount\n",
    "            return True\n"
   ]
  },
  {
   "cell_type": "code",
   "execution_count": 134,
   "metadata": {},
   "outputs": [
    {
     "output_type": "execute_result",
     "data": {
      "text/plain": [
       "-50"
      ]
     },
     "metadata": {},
     "execution_count": 134
    }
   ],
   "source": [
    "cc1 = CreditCard('Andrew', 'ABC', '1234567890', 1000)\n",
    "cc1.make_payment(50)\n",
    "cc1.get_balance()"
   ]
  },
  {
   "cell_type": "code",
   "execution_count": null,
   "metadata": {},
   "outputs": [],
   "source": []
  },
  {
   "cell_type": "code",
   "execution_count": null,
   "metadata": {},
   "outputs": [],
   "source": []
  },
  {
   "cell_type": "code",
   "execution_count": null,
   "metadata": {},
   "outputs": [],
   "source": []
  }
 ]
}