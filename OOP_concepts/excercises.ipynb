{
 "metadata": {
  "language_info": {
   "codemirror_mode": {
    "name": "ipython",
    "version": 3
   },
   "file_extension": ".py",
   "mimetype": "text/x-python",
   "name": "python",
   "nbconvert_exporter": "python",
   "pygments_lexer": "ipython3",
   "version": "3.6.12-final"
  },
  "orig_nbformat": 2,
  "kernelspec": {
   "name": "python3",
   "display_name": "Python 3",
   "language": "python"
  }
 },
 "nbformat": 4,
 "nbformat_minor": 2,
 "cells": [
  {
   "source": [
    "### R-2.4 Write a Python class, Flower, that has three instance variables of type ```str```, ```int```, and ```float```, that respectively represent the name of the flower, its number of petals, and its price. Your class must include a constructor method that initializes each variable to an appropriate value, and your class should include methods for setting the value of each type, and retrieving the value of each type."
   ],
   "cell_type": "markdown",
   "metadata": {}
  },
  {
   "cell_type": "code",
   "execution_count": 83,
   "metadata": {},
   "outputs": [],
   "source": [
    "class Flower:\n",
    "    def __init__(self, flower_type=None, num_petals=None, price=None):\n",
    "        # self._flower_type = self._num_petals = self._price = None\n",
    "\n",
    "        self._set_flower_type(flower_type)\n",
    "        self._set_num_petals(num_petals)\n",
    "        self._set_price(price)\n",
    "    \n",
    "    def _set_flower_type(self, flower_type):\n",
    "            \n",
    "        if not type(flower_type) == str:\n",
    "            raise ValueError(\"Invalid input name, it must be a string\")\n",
    "        self._flower_type = flower_type\n",
    "    \n",
    "    def _set_num_petals(self, num_petals):\n",
    "        if not type(num_petals) == int:\n",
    "            raise ValueError(\"Invalid input type, it must be a Integer\")\n",
    "        self._num_petals = num_petals\n",
    "\n",
    "\n",
    "    def _set_price(self, price):\n",
    "        if not type(price) == float:\n",
    "            raise ValueError(\"Invalid input price, it must be a float ex:. 2.0\")\n",
    "        self._price = price\n",
    "\n",
    "\n",
    "    def get_flower_type(self):\n",
    "        if self._flower_type is None: return (\"Attribute has not been set\")\n",
    "        return self._flower_type\n",
    "    \n",
    "    def get_number_of_petals(self):\n",
    "        if self._num_petals is None: return (\"Attribute has not been set\")\n",
    "        return self._num_petals\n",
    "    \n",
    "    def get_price(self):\n",
    "        if self._price is None: return (\"Attribute has not been set\")\n",
    "        return self._price"
   ]
  },
  {
   "source": [
    "### R-2.5 Use the techniques of Section 1.7 to revise the charge and make payment methods of the CreditCard class to ensure that the caller sends a number as a parameter."
   ],
   "cell_type": "markdown",
   "metadata": {}
  },
  {
   "cell_type": "code",
   "execution_count": 114,
   "metadata": {},
   "outputs": [],
   "source": [
    "class CreditCard:\n",
    "    \"\"\"A consumer credit card.\"\"\"\n",
    "    def __init__(self, customer, bank, acount, limit):\n",
    "        \"\"\"Create a new credit card instance\"\"\"\n",
    "        \"\"\"\n",
    "        \n",
    "        The initial balance is zero.\n",
    "        customer the name of the customer (e.g., John Bowman )\n",
    "        bank the name of the bank (e.g., California Savings )\n",
    "        acnt the acount identifier (e.g., 5391 0375 9387 5309 )\n",
    "        limit credit limit (measured in dollars)\n",
    "        \n",
    "        \"\"\"\n",
    "\n",
    "        self._customer = customer\n",
    "        self._bank = bank\n",
    "        self._account = acount\n",
    "        self._limit = limit\n",
    "        self._balance = 0 \n",
    "\n",
    "    def get_customer(self):\n",
    "        \"\"\"Return customer name\"\"\"\n",
    "        return self._customer\n",
    "        \n",
    "    def get_bank(self):\n",
    "        \"\"\"Return bank name\"\"\"\n",
    "        return self._bank\n",
    "        \n",
    "    def get_account(self):\n",
    "        \"\"\"Return account id\"\"\"\n",
    "        return self._account\n",
    "\n",
    "    def get_limit(self):\n",
    "        \"\"\"Return card limit\"\"\"\n",
    "        return self._limit\n",
    "        \n",
    "    def get_balance(self):\n",
    "        \"\"\"Return current account balance\"\"\"\n",
    "        return self._balance\n",
    "\n",
    "    # def charge(self, price):\n",
    "    #     \"\"\"\n",
    "    #     Charge given price to the card, assuming sufficient credit limit. \n",
    "    #     Return True if charge was processed; False if charge was denied.\n",
    "    #     \"\"\"\n",
    "    #     if not (type(price) == float or type(price) == int):\n",
    "    #         raise ValueError(\"Invalid input type, it must be a Number\")\n",
    "    #     if price + self._balance > self._limit:\n",
    "    #         return False\n",
    "    #     else:\n",
    "    #         self._balance += price\n",
    "    #         return True\n",
    "\n",
    "    def charge(self, price):\n",
    "        \"\"\"\n",
    "        Charge given price to the card, assuming sufficient credit limit. \n",
    "        Return True if charge was processed; False if charge was denied.\n",
    "        \"\"\"\n",
    "        try:\n",
    "            price = float(price)\n",
    "        except:\n",
    "            print ('Invalid input')\n",
    "            return False\n",
    "            \n",
    "        if price + self._balance > self._limit:\n",
    "            return False\n",
    "        else:\n",
    "            self._balance += price\n",
    "            return True\n",
    "            \n",
    "    def make_payment(self, amount):\n",
    "        \"\"\"\n",
    "        Process customer payment that reduces balance\n",
    "        \"\"\"\n",
    "        # if not (type(amount) == float or type(amount) == int):\n",
    "        #     raise ValueError(\"Invalid input type, it must be a Number\")\n",
    "        try:\n",
    "            price = float(amount)\n",
    "        except:\n",
    "            print ('Invalid input')\n",
    "            return False\n",
    "\n",
    "        self._balance -= amount\n",
    "        return True\n",
    "\n"
   ]
  },
  {
   "cell_type": "code",
   "execution_count": 115,
   "metadata": {},
   "outputs": [],
   "source": [
    "cc = CreditCard('Mohamed', 'Alex bank', \"415 154 351\", 1000)"
   ]
  },
  {
   "cell_type": "code",
   "execution_count": 116,
   "metadata": {},
   "outputs": [
    {
     "output_type": "execute_result",
     "data": {
      "text/plain": [
       "True"
      ]
     },
     "metadata": {},
     "execution_count": 116
    }
   ],
   "source": [
    "cc.make_payment(5)"
   ]
  },
  {
   "cell_type": "code",
   "execution_count": 117,
   "metadata": {},
   "outputs": [
    {
     "output_type": "stream",
     "name": "stdout",
     "text": [
      "-100\n0.0\n500.0\n700.0\n800.0\n800.0\nInvalid input\n800.0\n820.0\n820.0\n"
     ]
    }
   ],
   "source": [
    "cc1 = CreditCard('Andrew', 'ABC', '1234567890', 1000)\n",
    "cc1.make_payment(100); print(cc1.get_balance())\n",
    "cc1.charge(100); print(cc1.get_balance()) \n",
    "cc1.charge(500); print(cc1.get_balance()) \n",
    "cc1.charge(200); print(cc1.get_balance()) \n",
    "cc1.charge(100); print(cc1.get_balance()) \n",
    "cc1.charge(500); print(cc1.get_balance()) \n",
    "cc1.charge(\"Hello\"); print(cc1.get_balance())\n",
    "cc1.charge(\"20\"); print(cc1.get_balance())\n",
    "cc1.charge(\"453.4\"); print(cc1.get_balance())"
   ]
  },
  {
   "source": [
    "### R-2.6 If the parameter to the make payment method of the CreditCard class were a negative number, that would have the effect of raising the balance on the account. Revise the implementation so that it raises a ValueError if a negative value is sent."
   ],
   "cell_type": "markdown",
   "metadata": {}
  },
  {
   "cell_type": "code",
   "execution_count": 175,
   "metadata": {},
   "outputs": [],
   "source": [
    "class CreditCard:\n",
    "    \"\"\"A consumer credit card.\"\"\"\n",
    "    def __init__(self, customer, bank, acount, limit):\n",
    "        \"\"\"Create a new credit card instance\"\"\"\n",
    "        \"\"\"\n",
    "        \n",
    "        The initial balance is zero.\n",
    "        customer the name of the customer (e.g., John Bowman )\n",
    "        bank the name of the bank (e.g., California Savings )\n",
    "        acnt the acount identifier (e.g., 5391 0375 9387 5309 )\n",
    "        limit credit limit (measured in dollars)\n",
    "        \n",
    "        \"\"\"\n",
    "\n",
    "        self._customer = customer\n",
    "        self._bank = bank\n",
    "        self._account = acount\n",
    "        self._limit = limit\n",
    "        self._balance = 0 \n",
    "\n",
    "    def get_customer(self):\n",
    "        \"\"\"Return customer name\"\"\"\n",
    "        return self._customer\n",
    "        \n",
    "    def get_bank(self):\n",
    "        \"\"\"Return bank name\"\"\"\n",
    "        return self._bank\n",
    "        \n",
    "    def get_account(self):\n",
    "        \"\"\"Return account id\"\"\"\n",
    "        return self._account\n",
    "\n",
    "    def get_limit(self):\n",
    "        \"\"\"Return card limit\"\"\"\n",
    "        return self._limit\n",
    "        \n",
    "    def get_balance(self):\n",
    "        \"\"\"Return current account balance\"\"\"\n",
    "        return self._balance\n",
    "\n",
    "\n",
    "    def charge(self, price):\n",
    "        \"\"\"\n",
    "        Charge given price to the card, assuming sufficient credit limit. \n",
    "        Return True if charge was processed; False if charge was denied.\n",
    "        \"\"\"\n",
    "        try:\n",
    "            price = float(price)\n",
    "        except:\n",
    "            print ('Invalid input')\n",
    "            return False\n",
    "            \n",
    "        if price + self._balance > self._limit:\n",
    "            print(f'Your deposit of {price} exceeds your remainder of {self.get_limit()-self.get_balance()}')\n",
    "            return False\n",
    "        else:\n",
    "            self._balance += price\n",
    "            return True\n",
    "            \n",
    "    def make_payment(self, amount):\n",
    "        \"\"\"\n",
    "        Process customer payment that reduces balance\n",
    "        \"\"\"\n",
    "        try:\n",
    "            price = float(amount)\n",
    "\n",
    "        except:\n",
    "            print ('Invalid input')\n",
    "            return False\n",
    "        if price < 0:\n",
    "            raise ValueError(\"Invalid Input, Enter Positive Amount\")\n",
    "        else:\n",
    "            self._balance -= amount\n",
    "            return True\n"
   ]
  },
  {
   "cell_type": "code",
   "execution_count": 171,
   "metadata": {},
   "outputs": [
    {
     "output_type": "stream",
     "name": "stdout",
     "text": [
      "-100\nYour deposit of 10000.0 exceeds your remainder of 1100\n-100\n400.0\n600.0\n700.0\nYour deposit of 500.0 exceeds your remainder of 300.0\n700.0\nInvalid input\n700.0\n720.0\nYour deposit of 453.4 exceeds your remainder of 280.0\n720.0\nInvalid Input, Enter Positive Amount\n"
     ]
    }
   ],
   "source": [
    "cc1 = CreditCard('Andrew', 'ABC', '1234567890', 1000)\n",
    "cc1.make_payment(100); print(cc1.get_balance())\n",
    "cc1.charge(10000); print(cc1.get_balance()) \n",
    "cc1.charge(500); print(cc1.get_balance()) \n",
    "cc1.charge(200); print(cc1.get_balance()) \n",
    "cc1.charge(100); print(cc1.get_balance()) \n",
    "cc1.charge(500); print(cc1.get_balance()) \n",
    "cc1.charge(\"Hello\"); print(cc1.get_balance())\n",
    "cc1.charge(\"20\"); print(cc1.get_balance())\n",
    "cc1.charge(\"453.4\"); print(cc1.get_balance())\n",
    "try:\n",
    "    cc1.make_payment(\"-453.4\"); print(cc1.get_balance())\n",
    "except Exception as e:\n",
    "    print (e)"
   ]
  },
  {
   "source": [
    "### R-2.7 The CreditCard class of Section 2.3 initializes the balance of a new account to zero. Modify that class so that a new account can be given a nonzero balance using an optional fifth parameter to the constructor. The four-parameter constructor syntax should continue to produce an account with zero balance."
   ],
   "cell_type": "markdown",
   "metadata": {}
  },
  {
   "cell_type": "code",
   "execution_count": 163,
   "metadata": {},
   "outputs": [],
   "source": [
    "class CreditCardWithInitialBalance(CreditCard):\n",
    "    def __init__(self, customer, bank, acnt, limit, balance = 0):\n",
    "        super().__init__(customer, bank, acnt, limit)\n",
    "        self._balance = balance\n",
    "    "
   ]
  },
  {
   "cell_type": "code",
   "execution_count": 172,
   "metadata": {},
   "outputs": [
    {
     "output_type": "stream",
     "name": "stdout",
     "text": [
      "-50\n50.0\n550.0\n750.0\n850.0\n850.0\nInvalid input\n850.0\n870.0\n870.0\n"
     ]
    }
   ],
   "source": [
    "cc1 = CreditCardWithInitialBalance('Andrew', 'ABC', '1234567890', 1000, 50)\n",
    "cc1.make_payment(100); print(cc1.get_balance())\n",
    "cc1.charge(100); print(cc1.get_balance()) \n",
    "cc1.charge(500); print(cc1.get_balance()) \n",
    "cc1.charge(200); print(cc1.get_balance()) \n",
    "cc1.charge(100); print(cc1.get_balance()) \n",
    "cc1.charge(500); print(cc1.get_balance()) \n",
    "cc1.charge(\"Hello\"); print(cc1.get_balance())\n",
    "cc1.charge(\"20\"); print(cc1.get_balance())\n",
    "cc1.charge(\"453.4\"); print(cc1.get_balance())"
   ]
  },
  {
   "source": [
    "### R-2.8 Modify the declaration of the first for loop in the CreditCard tests, from Code Fragment 2.3, so that it will eventually cause exactly one of the three credit cards to go over its credit limit. Which credit card is it?"
   ],
   "cell_type": "markdown",
   "metadata": {}
  },
  {
   "cell_type": "code",
   "execution_count": null,
   "metadata": {},
   "outputs": [],
   "source": []
  },
  {
   "cell_type": "code",
   "execution_count": 176,
   "metadata": {},
   "outputs": [
    {
     "output_type": "stream",
     "name": "stdout",
     "text": [
      "Your deposit of 71.0 exceeds your remainder of 15.0\nYour deposit of 72.0 exceeds your remainder of 15.0\nYour deposit of 73.0 exceeds your remainder of 15.0\nYour deposit of 74.0 exceeds your remainder of 15.0\nYour deposit of 75.0 exceeds your remainder of 15.0\nYour deposit of 76.0 exceeds your remainder of 15.0\nYour deposit of 77.0 exceeds your remainder of 15.0\nYour deposit of 78.0 exceeds your remainder of 15.0\nYour deposit of 79.0 exceeds your remainder of 15.0\nYour deposit of 80.0 exceeds your remainder of 15.0\nYour deposit of 81.0 exceeds your remainder of 15.0\nYour deposit of 82.0 exceeds your remainder of 15.0\nYour deposit of 83.0 exceeds your remainder of 15.0\nYour deposit of 84.0 exceeds your remainder of 15.0\nYour deposit of 85.0 exceeds your remainder of 15.0\nYour deposit of 86.0 exceeds your remainder of 15.0\nYour deposit of 87.0 exceeds your remainder of 15.0\nYour deposit of 88.0 exceeds your remainder of 15.0\nYour deposit of 89.0 exceeds your remainder of 15.0\nYour deposit of 90.0 exceeds your remainder of 15.0\nYour deposit of 91.0 exceeds your remainder of 15.0\nYour deposit of 92.0 exceeds your remainder of 15.0\nYour deposit of 93.0 exceeds your remainder of 15.0\nYour deposit of 94.0 exceeds your remainder of 15.0\nYour deposit of 95.0 exceeds your remainder of 15.0\nYour deposit of 96.0 exceeds your remainder of 15.0\nYour deposit of 97.0 exceeds your remainder of 15.0\nYour deposit of 98.0 exceeds your remainder of 15.0\nYour deposit of 99.0 exceeds your remainder of 15.0\n"
     ]
    }
   ],
   "source": [
    "#class testing\n",
    "if __name__ == \"__main__\":\n",
    "    \"\"\"    \n",
    "    inserting three cards into a list named wallet. \n",
    "    We use loops to make some charges and payments, and \n",
    "    use various accessors to print results to the console.\n",
    "    \"\"\"\n",
    "    wallet = []\n",
    "    wallet.append(CreditCard( 'John Bowman' , 'California Savings' ,'56 5391 0375 9387 5309' , 2500) )\n",
    "    wallet.append(CreditCard( 'John Bowman' , 'California Federal' ,'58 3485 0399 3395 1954' , 3500) )\n",
    "    wallet.append(CreditCard( 'John Bowman' , 'California Finance' ,'60 5391 0375 9387 5309' , 5000) )\n",
    "\n",
    "    for val in range(0, 100):\n",
    "        wallet[0].charge(val)\n",
    "        wallet[1].charge(2*val)\n",
    "        wallet[2].charge(3*val)\n",
    "\n",
    "    for c in range(3):\n",
    "        print(f\"customer : {wallet[c].get_customer()}\")\n",
    "        print(f\"bank : {wallet[c].get_bank()}\")\n",
    "        print(f\"Account : {wallet[c].get_account()}\")\n",
    "        print(f\"limit : {wallet[c].get_limit()}\")\n",
    "        print(f\"Balance = {wallet[c].get_balance()}\")\n",
    "        while wallet[c].get_balance() > 100:\n",
    "            wallet[c].make_payment(100)\n",
    "            print(f\"new balance = {wallet[c].get_balance()}\")\n"
   ]
  },
  {
   "source": [
    "## Vector class representation"
   ],
   "cell_type": "markdown",
   "metadata": {}
  },
  {
   "cell_type": "code",
   "execution_count": null,
   "metadata": {},
   "outputs": [],
   "source": [
    "class Vector:\n",
    "    \"\"\"\n",
    "    Represents vector in Multidimential space\n",
    "    \"\"\"\n",
    "    def __init__(self, d):\n",
    "        \"\"\"\n",
    "        Create d-dimensional vector of zeros.\n",
    "        \"\"\"\n",
    "        self._coords = d * [0]\n",
    "\n",
    "    def __len__(self):\n",
    "        \"\"\"Return the dimension of the vector\"\"\"\n",
    "        return len(self._coords)\n",
    "    \n",
    "    def __getitem__(self, j):\n",
    "        \"\"\"Return jth coordinate of vector\"\"\"\n",
    "        return self._coords[j]\n",
    "    \n",
    "    def __setitem__(self, i, value):\n",
    "        \"\"\"Set jth coordinate of vector to given value.\"\"\"\n",
    "        self._coords[i] = value\n",
    "    \n",
    "    def __add__(self, other):\n",
    "        \"\"\"Return sum of two vectors\"\"\"\n",
    "        result = Vector(self.__len__())\n",
    "        if not (self.__len__() == other.__len__()): # is equal to len(self) == other(self)\n",
    "            raise ValueError(\"Both vectors not in the same length\")\n",
    "            return False\n",
    "        \n",
    "        for i in range(len(self._coords)):\n",
    "            result[i] = self.__getitem__(i) + other.__getitem__(i) #is equal to self[i] + other[i]\n",
    "        return result\n",
    "    \n",
    "    def __eq__(self, other):\n",
    "        return self._coords == other._coords\n",
    "    \n",
    "    def __ne__(self, other):\n",
    "        return not self == other #is eual to self.__eq__() == other.__eq__()\n",
    "\n",
    "    def __str__(self):\n",
    "        return \"<\"+ str(self._coords) +'>'\n",
    "        \n",
    "\n",
    "\n",
    "\n",
    "        "
   ]
  },
  {
   "source": [
    "### R-2.9 Implement the sub method for the Vector class of Section 2.3.3, so that the expression u−v returns a new vector instance representing the difference between two vectors."
   ],
   "cell_type": "markdown",
   "metadata": {}
  },
  {
   "cell_type": "code",
   "execution_count": 182,
   "metadata": {},
   "outputs": [],
   "source": [
    "class Vector:\n",
    "    \"\"\"\n",
    "    Represents vector in Multidimential space\n",
    "    \"\"\"\n",
    "    def __init__(self, d):\n",
    "        \"\"\"\n",
    "        Create d-dimensional vector of zeros.\n",
    "        \"\"\"\n",
    "        self._coords = d * [0]\n",
    "\n",
    "    def __len__(self):\n",
    "        \"\"\"Return the dimension of the vector\"\"\"\n",
    "        return len(self._coords)\n",
    "    \n",
    "    def __getitem__(self, j):\n",
    "        \"\"\"Return jth coordinate of vector\"\"\"\n",
    "        return self._coords[j]\n",
    "    \n",
    "    def __setitem__(self, i, value):\n",
    "        \"\"\"Set jth coordinate of vector to given value.\"\"\"\n",
    "        self._coords[i] = value\n",
    "    \n",
    "    def __add__(self, other):\n",
    "        \"\"\"Return sum of two vectors\"\"\"\n",
    "        result = Vector(self.__len__())\n",
    "        if not (self.__len__() == other.__len__()): # is equal to len(self) == other(self)\n",
    "            raise ValueError(\"Both vectors not in the same length\")\n",
    "            return False\n",
    "        \n",
    "        for i in range(len(self._coords)):\n",
    "            result[i] = self.__getitem__(i) + other.__getitem__(i) #is equal to self[i] + other[i]\n",
    "        return result\n",
    "    \n",
    "    def __eq__(self, other):\n",
    "        return self._coords == other._coords\n",
    "    \n",
    "    def __ne__(self, other):\n",
    "        return not self == other #is eual to self.__eq__() == other.__eq__()\n",
    "\n",
    "    def __str__(self):\n",
    "        return \"<\"+ str(self._coords)[1:-1] +'>'\n",
    "    \n",
    "    def __sub__(self, other):\n",
    "        results = Vector(len(self))\n",
    "        if not (len(self) == len(other)):\n",
    "            raise ValueError(\"Vectors must have the same length\")\n",
    "            return False\n",
    "\n",
    "        for i in range(len(self)):\n",
    "            results[i] = self[i] - other[i]\n",
    "        return results\n",
    "    \n",
    "\n",
    "\n",
    "\n"
   ]
  },
  {
   "cell_type": "code",
   "execution_count": 183,
   "metadata": {},
   "outputs": [
    {
     "output_type": "stream",
     "name": "stdout",
     "text": [
      "<5, 5, 5, 5, 5>\n<0, 1, 2, 3, 4>\n<5, 6, 7, 8, 9>\n<5, 4, 3, 2, 1>\n<-5, -4, -3, -2, -1>\n"
     ]
    }
   ],
   "source": [
    "v1 = Vector(5)\n",
    "v2 = Vector (5)\n",
    "for i in range(5):\n",
    "    v1[i] = 5\n",
    "    v2[i] = i\n",
    "\n",
    "print(v1)\n",
    "print(v2)   \n",
    "print (v1+v2)\n",
    "print (v1-v2)\n",
    "print (v2-v1)"
   ]
  },
  {
   "source": [
    "### R-2.10 Implement the neg method for the Vector class of Section 2.3.3, so that the expression −v returns a new vector instance whose coordinates are all the negated values of the respective coordinates of v."
   ],
   "cell_type": "markdown",
   "metadata": {}
  },
  {
   "cell_type": "code",
   "execution_count": 184,
   "metadata": {},
   "outputs": [],
   "source": [
    "class NegVector(Vector):\n",
    "    def __init__(self, d):\n",
    "        super().__init__(d)\n",
    "\n",
    "    def __neg__(self):\n",
    "        for i in range(len(self)):\n",
    "            self[i] = -1 * self[i]\n",
    "        return self._coords\n"
   ]
  },
  {
   "cell_type": "code",
   "execution_count": 185,
   "metadata": {},
   "outputs": [
    {
     "output_type": "stream",
     "name": "stdout",
     "text": [
      "<5, 6, 7, 8, 9>\n<5, 4, 3, 2, 1>\n<-5, -4, -3, -2, -1>\n[-5, -5, -5, -5, -5] <-5, -5, -5, -5, -5>\n"
     ]
    }
   ],
   "source": [
    "            \n",
    "vv = NegVector    #Use this so that I can easily change the class for subsequent exercises\n",
    "    \n",
    "v1 = vv(5)\n",
    "v2 = vv(5)\n",
    "for i in range(5):\n",
    "    v1[i] = 5\n",
    "    v2[i] = i\n",
    "\n",
    " \n",
    "print (v1+v2)\n",
    "print (v1-v2)\n",
    "print (v2-v1)      \n",
    "print (-v1, v1)"
   ]
  },
  {
   "source": [
    "### R-2.11 In Section 2.3.3, we note that our Vector class supports a syntax such as ```v = u + [5, 3, 10, −2, 1]```, in which the sum of a vector and list returns a new vector. However, the syntax ```v = [5, 3, 10, −2, 1] + u``` is illegal. Explain how the Vector class definition can be revised so that this syntax generates a new vector."
   ],
   "cell_type": "markdown",
   "metadata": {}
  },
  {
   "cell_type": "code",
   "execution_count": 196,
   "metadata": {},
   "outputs": [],
   "source": [
    "class raddVector(Vector):\n",
    "    def __init__(self, d):\n",
    "        super().__init__(d)\n",
    "    \n",
    "    def __radd__(self, other):\n",
    "        return raddVector.__add__(self,other) \n"
   ]
  },
  {
   "cell_type": "code",
   "execution_count": 197,
   "metadata": {},
   "outputs": [
    {
     "output_type": "stream",
     "name": "stdout",
     "text": [
      "<5, 5, 5, 5, 5>\n<0, 1, 2, 3, 4>\n"
     ]
    }
   ],
   "source": [
    "v1 = raddVector(5)\n",
    "v2 = raddVector(5)\n",
    "for i in range(5):\n",
    "    v1[i] = 5\n",
    "    v2[i] = i\n",
    "print(v1)\n",
    "print(v2)"
   ]
  },
  {
   "cell_type": "code",
   "execution_count": 198,
   "metadata": {},
   "outputs": [
    {
     "output_type": "stream",
     "name": "stdout",
     "text": [
      "<6, 6, 6, 6, 6>\n"
     ]
    }
   ],
   "source": [
    "print(v1+[1,1,1,1,1])"
   ]
  },
  {
   "cell_type": "code",
   "execution_count": 199,
   "metadata": {},
   "outputs": [
    {
     "output_type": "stream",
     "name": "stdout",
     "text": [
      "<6, 6, 6, 6, 6>\n"
     ]
    }
   ],
   "source": [
    "print([1,1,1,1,1]+v1)"
   ]
  },
  {
   "source": [
    "R-2.12 Implement the mul method for the Vector class of Section 2.3.3, so that the expression ```v 3``` returns a new vector with coordinates that are 3 times the respective coordinates of v"
   ],
   "cell_type": "markdown",
   "metadata": {}
  },
  {
   "cell_type": "code",
   "execution_count": 221,
   "metadata": {},
   "outputs": [],
   "source": [
    "class MulVec(raddVector):\n",
    "    def __mul__(self, op):\n",
    "        result = raddVector(len(self))\n",
    "        for i in range(len(self)):\n",
    "            result[i] = op * self[i]\n",
    "        return result\n",
    "            \n",
    "\n"
   ]
  },
  {
   "cell_type": "code",
   "execution_count": 222,
   "metadata": {},
   "outputs": [
    {
     "output_type": "stream",
     "name": "stdout",
     "text": [
      "<5, 5, 5, 5, 5>\n<0, 1, 2, 3, 4>\n"
     ]
    }
   ],
   "source": [
    "v1 = MulVec(5)\n",
    "v2 = MulVec(5)\n",
    "for i in range(5):\n",
    "    v1[i] = 5\n",
    "    v2[i] = i\n",
    "print(v1)\n",
    "print(v2)\n"
   ]
  },
  {
   "cell_type": "code",
   "execution_count": 224,
   "metadata": {},
   "outputs": [
    {
     "output_type": "stream",
     "name": "stdout",
     "text": [
      "<15, 15, 15, 15, 15>\n"
     ]
    }
   ],
   "source": [
    "print(v1 * 3)"
   ]
  },
  {
   "source": [
    "R-2.13 Exercise R-2.12 asks for an implementation of ```__mul__`` , for the Vector class of Section 2.3.3, to provide support for the syntax v 3. Implement the ```__rmul__``` method, to provide additional support for syntax 3 v."
   ],
   "cell_type": "markdown",
   "metadata": {}
  },
  {
   "cell_type": "code",
   "execution_count": 225,
   "metadata": {},
   "outputs": [],
   "source": [
    "class rVector(MulVec):\n",
    "    def __rmul__(self, val):\n",
    "        return rVector.__mul__(self, val)"
   ]
  },
  {
   "cell_type": "code",
   "execution_count": 226,
   "metadata": {},
   "outputs": [
    {
     "output_type": "stream",
     "name": "stdout",
     "text": [
      "<5, 5, 5, 5, 5>\n<0, 1, 2, 3, 4>\n"
     ]
    }
   ],
   "source": [
    "v1 = rVector(5)\n",
    "v2 = rVector(5)\n",
    "for i in range(5):\n",
    "    v1[i] = 5\n",
    "    v2[i] = i\n",
    "print(v1)\n",
    "print(v2)"
   ]
  },
  {
   "cell_type": "code",
   "execution_count": 227,
   "metadata": {},
   "outputs": [
    {
     "output_type": "stream",
     "name": "stdout",
     "text": [
      "<10, 10, 10, 10, 10>\n"
     ]
    }
   ],
   "source": [
    "print(v1*2)"
   ]
  },
  {
   "cell_type": "code",
   "execution_count": 229,
   "metadata": {},
   "outputs": [
    {
     "output_type": "stream",
     "name": "stdout",
     "text": [
      "<25, 25, 25, 25, 25>\n"
     ]
    }
   ],
   "source": [
    "print(5*v1)"
   ]
  },
  {
   "source": [
    "R-2.14 Implement the mul method for the Vector class of Section 2.3.3, so that the expression ```u * v``` returns a scalar that represents the dot product of the vectors, that is, "
   ],
   "cell_type": "markdown",
   "metadata": {}
  },
  {
   "cell_type": "code",
   "execution_count": 233,
   "metadata": {},
   "outputs": [
    {
     "output_type": "execute_result",
     "data": {
      "text/plain": [
       "<IPython.core.display.Latex object>"
      ],
      "text/latex": "\\begin{eqnarray}\n\\sum_{i=1}^{d} U_{i}.V_{i}\n\\end{eqnarray}"
     },
     "metadata": {},
     "execution_count": 233
    }
   ],
   "source": [
    "from IPython.display import Latex\n",
    "Latex(r\"\"\"\\begin{eqnarray}\n",
    "\\sum_{i=1}^{d} U_{i}.V_{i}\n",
    "\\end{eqnarray}\"\"\")"
   ]
  },
  {
   "cell_type": "code",
   "execution_count": 236,
   "metadata": {},
   "outputs": [
    {
     "output_type": "stream",
     "name": "stdout",
     "text": [
      "<5, 6, 7, 8, 9>\n<5, 4, 3, 2, 1>\n<-5, -4, -3, -2, -1>\n<30, 30, 30, 30, 30>\n<35, 35, 35, 35, 35>\n5 5\n50\n7 5\nVector lengths do not match\n<16.5, 16.5, 16.5, 16.5, 16.5>\n"
     ]
    }
   ],
   "source": [
    "\n",
    "#----------R2-14----------------\n",
    "class VectorwVectorMult(rVector):\n",
    "    def __mul__(self, other): #Overriding the original definition\n",
    "        if type(other) == int or type(other) == float: \n",
    "            result = Vector(len(self))\n",
    "            for i in range(len(self)):\n",
    "                result[i] = self[i]*other\n",
    "            return result\n",
    "                        \n",
    "        else:\n",
    "            len(other)\n",
    "            print (len(other), len(self))\n",
    "            if len(other) != len(self):\n",
    "                raise ValueError('Vector lengths do not match')\n",
    "            sum = 0\n",
    "            for i in range(len(self)):\n",
    "                sum += self[i]*other[i]\n",
    "            return sum\n",
    "        \n",
    "vv = VectorwVectorMult    \n",
    "    \n",
    "v1 = vv(5)\n",
    "v2 = vv(5)\n",
    "for i in range(5):\n",
    "    v1[i] = 5\n",
    "    v2[i] = i\n",
    "    \n",
    "print (v1+v2)\n",
    "print (v1-v2)\n",
    "print (v2-v1)      \n",
    "print (v1*6)\n",
    "print (7*v1)\n",
    "print (v1*v2)\n",
    "try:\n",
    "    print (v1*vv(7))\n",
    "except Exception as e:\n",
    "    print(e)\n",
    "print (v1*3.3)"
   ]
  },
  {
   "cell_type": "code",
   "execution_count": null,
   "metadata": {},
   "outputs": [],
   "source": []
  },
  {
   "cell_type": "code",
   "execution_count": 250,
   "metadata": {},
   "outputs": [],
   "source": [
    "class Progression:\n",
    "    \"\"\"Iterator producing a generic progression\n",
    "    Default iterator produces the whole numbers 0, 1, 2, ...\"\"\"\n",
    "    def __init__(self, start=0):\n",
    "        self._current = start\n",
    "    \n",
    "    def _advance(self):\n",
    "        \"\"\" Update self. current to a new value.\n",
    "        This should be overridden by a subclass to customize progression.\n",
    "\n",
    "        By convention, if current is set to None, this designates the\n",
    "        end of a finite progression.\"\"\"\n",
    "        self._current += 1\n",
    "    \n",
    "    def __next__(self):\n",
    "        \"\"\"\n",
    "        Return the next element, or else raise StopIteration error.\n",
    "        \"\"\"\n",
    "        if self._current == None: raise StopIteration()\n",
    "        else:\n",
    "            answer = self._current\n",
    "            self._advance()\n",
    "            return answer\n",
    "    \n",
    "    def __iter__(self):\n",
    "        return self\n",
    "    \n",
    "    def print_regression(self, n):\n",
    "        print(' '.join(str(self.__next__()) for i in range(n)))\n",
    "\n",
    "\n"
   ]
  },
  {
   "cell_type": "code",
   "execution_count": 251,
   "metadata": {},
   "outputs": [
    {
     "output_type": "stream",
     "name": "stdout",
     "text": [
      "0 1 2 3 4 5 6 7 8 9\n"
     ]
    }
   ],
   "source": [
    "r = Progression(0)\n",
    "r.print_regression(10)"
   ]
  },
  {
   "cell_type": "code",
   "execution_count": 252,
   "metadata": {},
   "outputs": [],
   "source": [
    "# Arthimatic Progression\n",
    "class Arthimaticprograssion(Progression):\n",
    "    def __init__(self, start=0, increment=1):\n",
    "        super().__init__(start)\n",
    "        self._increment = increment\n",
    "    \n",
    "    def _advance(self):\n",
    "        self._current += self._increment\n",
    "        return self._current"
   ]
  },
  {
   "cell_type": "code",
   "execution_count": 253,
   "metadata": {},
   "outputs": [
    {
     "output_type": "stream",
     "name": "stdout",
     "text": [
      "0 5 10 15 20 25 30 35 40 45\n"
     ]
    }
   ],
   "source": [
    "AP = Arthimaticprograssion(0, 5)\n",
    "AP.print_regression(10)"
   ]
  },
  {
   "cell_type": "code",
   "execution_count": 266,
   "metadata": {},
   "outputs": [],
   "source": [
    "# FibonacciProgression \n",
    "class FibonacciProgression(Progression):\n",
    "    def __init__(self, first=0, second=1):\n",
    "        super().__init__(first)\n",
    "        self._prev = second - first\n",
    "\n",
    "    \n",
    "    def _advance(self):\n",
    "        self._prev, self._current = self._current, self._current + self._prev\n",
    "        \n"
   ]
  },
  {
   "cell_type": "code",
   "execution_count": 267,
   "metadata": {},
   "outputs": [
    {
     "output_type": "stream",
     "name": "stdout",
     "text": [
      "0 1 1 2 3 5 8 13 21 34\n"
     ]
    }
   ],
   "source": [
    "FA = FibonacciProgression()\n",
    "FA.print_regression(10)"
   ]
  },
  {
   "cell_type": "code",
   "execution_count": 268,
   "metadata": {},
   "outputs": [
    {
     "output_type": "stream",
     "name": "stdout",
     "text": [
      "4 6 10 16 26 42 68 110 178 288\n"
     ]
    }
   ],
   "source": [
    "FA = FibonacciProgression(4, 6)\n",
    "FA.print_regression(10)"
   ]
  },
  {
   "source": [
    "### R-2.18 Give a short fragment of Python code that uses the progression classes from Section 2.4.2 to find the 8th value of a Fibonacci progression that starts with 2 and 2 as its first two values."
   ],
   "cell_type": "markdown",
   "metadata": {}
  },
  {
   "cell_type": "code",
   "execution_count": null,
   "metadata": {},
   "outputs": [],
   "source": []
  },
  {
   "cell_type": "code",
   "execution_count": null,
   "metadata": {},
   "outputs": [],
   "source": []
  },
  {
   "cell_type": "code",
   "execution_count": null,
   "metadata": {},
   "outputs": [],
   "source": []
  },
  {
   "cell_type": "code",
   "execution_count": null,
   "metadata": {},
   "outputs": [],
   "source": []
  },
  {
   "cell_type": "code",
   "execution_count": null,
   "metadata": {},
   "outputs": [],
   "source": []
  },
  {
   "cell_type": "code",
   "execution_count": null,
   "metadata": {},
   "outputs": [],
   "source": []
  }
 ]
}