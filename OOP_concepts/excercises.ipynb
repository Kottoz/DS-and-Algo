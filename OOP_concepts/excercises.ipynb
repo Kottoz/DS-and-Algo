{
 "metadata": {
  "language_info": {
   "codemirror_mode": {
    "name": "ipython",
    "version": 3
   },
   "file_extension": ".py",
   "mimetype": "text/x-python",
   "name": "python",
   "nbconvert_exporter": "python",
   "pygments_lexer": "ipython3",
   "version": "3.6.12-final"
  },
  "orig_nbformat": 2,
  "kernelspec": {
   "name": "python3",
   "display_name": "Python 3",
   "language": "python"
  }
 },
 "nbformat": 4,
 "nbformat_minor": 2,
 "cells": [
  {
   "source": [
    "### R-2.4 Write a Python class, Flower, that has three instance variables of type ```str```, ```int```, and ```float```, that respectively represent the name of the flower, its number of petals, and its price. Your class must include a constructor method that initializes each variable to an appropriate value, and your class should include methods for setting the value of each type, and retrieving the value of each type."
   ],
   "cell_type": "markdown",
   "metadata": {}
  },
  {
   "cell_type": "code",
   "execution_count": 83,
   "metadata": {},
   "outputs": [],
   "source": [
    "class Flower:\n",
    "    def __init__(self, flower_type=None, num_petals=None, price=None):\n",
    "        # self._flower_type = self._num_petals = self._price = None\n",
    "\n",
    "        self._set_flower_type(flower_type)\n",
    "        self._set_num_petals(num_petals)\n",
    "        self._set_price(price)\n",
    "    \n",
    "    def _set_flower_type(self, flower_type):\n",
    "            \n",
    "        if not type(flower_type) == str:\n",
    "            raise ValueError(\"Invalid input name, it must be a string\")\n",
    "        self._flower_type = flower_type\n",
    "    \n",
    "    def _set_num_petals(self, num_petals):\n",
    "        if not type(num_petals) == int:\n",
    "            raise ValueError(\"Invalid input type, it must be a Integer\")\n",
    "        self._num_petals = num_petals\n",
    "\n",
    "\n",
    "    def _set_price(self, price):\n",
    "        if not type(price) == float:\n",
    "            raise ValueError(\"Invalid input price, it must be a float ex:. 2.0\")\n",
    "        self._price = price\n",
    "\n",
    "\n",
    "    def get_flower_type(self):\n",
    "        if self._flower_type is None: return (\"Attribute has not been set\")\n",
    "        return self._flower_type\n",
    "    \n",
    "    def get_number_of_petals(self):\n",
    "        if self._num_petals is None: return (\"Attribute has not been set\")\n",
    "        return self._num_petals\n",
    "    \n",
    "    def get_price(self):\n",
    "        if self._price is None: return (\"Attribute has not been set\")\n",
    "        return self._price"
   ]
  },
  {
   "cell_type": "code",
   "execution_count": null,
   "metadata": {},
   "outputs": [],
   "source": []
  }
 ]
}