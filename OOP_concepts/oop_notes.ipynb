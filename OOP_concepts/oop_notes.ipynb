{
 "metadata": {
  "language_info": {
   "codemirror_mode": {
    "name": "ipython",
    "version": 3
   },
   "file_extension": ".py",
   "mimetype": "text/x-python",
   "name": "python",
   "nbconvert_exporter": "python",
   "pygments_lexer": "ipython3",
   "version": "3.6.12-final"
  },
  "orig_nbformat": 2,
  "kernelspec": {
   "name": "python3",
   "display_name": "Python 3",
   "language": "python"
  }
 },
 "nbformat": 4,
 "nbformat_minor": 2,
 "cells": [
  {
   "source": [
    "### Abstraction Data Type **(ADT)**."
   ],
   "cell_type": "markdown",
   "metadata": {}
  },
  {
   "cell_type": "code",
   "execution_count": 7,
   "metadata": {},
   "outputs": [],
   "source": [
    "from abc import ABC\n",
    "class Polygon(ABC):\n",
    "    \n",
    "    @classmethod\n",
    "    def Myedges(self):\n",
    "        pass \n",
    "\n",
    "    @classmethod\n",
    "    def Area(self):\n",
    "        pass \n",
    "\n",
    "    @classmethod\n",
    "    def Circumference(self):\n",
    "        pass \n",
    "\n",
    "class Triangle(Polygon):\n",
    "\n",
    "    __metric = {\n",
    "        \"Equilateral Triangle\": 0,\n",
    "        \"Isosceles triangle\" : 1,\n",
    "        \"Scalene triangle\" : 2,\n",
    "        \"Right\" : 3,\n",
    "        \"Obtuse\" : 4,\n",
    "        \"Acute\" : 5\n",
    "    }\n",
    "\n",
    "    def __init__(self, side_length, type_by_length_side='Equilateral Triangle', type_by_internal_angles='Right'):\n",
    "        self.side_length = side_length\n",
    "        self.type_by_internal_angles = type_by_internal_angles\n",
    "        self.type_by_length_side = type_by_length_side\n",
    "        self.no_sides  = 3\n",
    "\n",
    "    def Myedges(self):\n",
    "        return \"i have %s edges\"%(self.no_sides)\n",
    "\n",
    "class Square(Polygon):\n",
    "\n",
    "    __metric = {\n",
    "            \"\"\"\n",
    "            Its own metric\n",
    "            \"\"\"\n",
    "    }\n",
    "\n",
    "    def __init__(self, side_length):\n",
    "        self.side_length = side_length\n",
    "        self.no_sides  = 4\n",
    "\n",
    "    def Myedges(self):\n",
    "        return \"i have %s edges\"%(self.no_sides)"
   ]
  },
  {
   "cell_type": "code",
   "execution_count": 10,
   "metadata": {},
   "outputs": [],
   "source": [
    "trig1 = Triangle(5)\n",
    "sq1 = Square(3)"
   ]
  },
  {
   "cell_type": "code",
   "execution_count": 11,
   "metadata": {},
   "outputs": [
    {
     "output_type": "execute_result",
     "data": {
      "text/plain": [
       "'i have 3 edges'"
      ]
     },
     "metadata": {},
     "execution_count": 11
    }
   ],
   "source": [
    "trig1.Myedges()"
   ]
  },
  {
   "cell_type": "code",
   "execution_count": 12,
   "metadata": {},
   "outputs": [
    {
     "output_type": "execute_result",
     "data": {
      "text/plain": [
       "'i have 4 edges'"
      ]
     },
     "metadata": {},
     "execution_count": 12
    }
   ],
   "source": [
    "sq1.Myedges()"
   ]
  },
  {
   "source": [
    "Concrete classes contain only concrete (normal)methods whereas abstract classes may contains both concrete methods and abstract methods. Concrete class provide an implementation of abstract methods, the abstract base class can also provide an implementation by invoking the methods via super().\n",
    "Let look over the example to invoke the method using super():\n",
    "\n",
    "we can invoke the methods in abstract classes by using super()."
   ],
   "cell_type": "markdown",
   "metadata": {}
  },
  {
   "cell_type": "code",
   "execution_count": 111,
   "metadata": {},
   "outputs": [
    {
     "output_type": "stream",
     "name": "stdout",
     "text": [
      "Abstract Base Class\nsubclass \n"
     ]
    }
   ],
   "source": [
    "import abc \n",
    "from abc import ABC, abstractmethod \n",
    "  \n",
    "class R(ABC): \n",
    "    def rk(self): \n",
    "        print(\"Abstract Base Class\") \n",
    "  \n",
    "class K(R): \n",
    "    def rk(self): \n",
    "        super().rk() \n",
    "        print(\"subclass \") \n",
    "  \n",
    "# Driver code \n",
    "r = K() \n",
    "r.rk()"
   ]
  },
  {
   "cell_type": "code",
   "execution_count": 67,
   "metadata": {},
   "outputs": [],
   "source": [
    "int_var_1 = int(5)"
   ]
  },
  {
   "cell_type": "code",
   "execution_count": 68,
   "metadata": {},
   "outputs": [],
   "source": [
    "int_var_2 = int(3)"
   ]
  },
  {
   "cell_type": "code",
   "execution_count": 69,
   "metadata": {},
   "outputs": [
    {
     "output_type": "execute_result",
     "data": {
      "text/plain": [
       "8"
      ]
     },
     "metadata": {},
     "execution_count": 69
    }
   ],
   "source": [
    "int_var_1.__add__(int_var_2)"
   ]
  },
  {
   "cell_type": "code",
   "execution_count": 70,
   "metadata": {},
   "outputs": [
    {
     "output_type": "execute_result",
     "data": {
      "text/plain": [
       "8"
      ]
     },
     "metadata": {},
     "execution_count": 70
    }
   ],
   "source": [
    "int_var_1 + int_var_2 "
   ]
  },
  {
   "cell_type": "code",
   "execution_count": 73,
   "metadata": {},
   "outputs": [
    {
     "output_type": "execute_result",
     "data": {
      "text/plain": [
       "int"
      ]
     },
     "metadata": {},
     "execution_count": 73
    }
   ],
   "source": [
    "type(int_var_1)"
   ]
  },
  {
   "cell_type": "code",
   "execution_count": 77,
   "metadata": {},
   "outputs": [
    {
     "output_type": "execute_result",
     "data": {
      "text/plain": [
       "(__main__.Polygon,)"
      ]
     },
     "metadata": {},
     "execution_count": 77
    }
   ],
   "source": [
    "Triangle.__bases__"
   ]
  },
  {
   "cell_type": "code",
   "execution_count": 78,
   "metadata": {},
   "outputs": [
    {
     "output_type": "execute_result",
     "data": {
      "text/plain": [
       "'__main__'"
      ]
     },
     "metadata": {},
     "execution_count": 78
    }
   ],
   "source": [
    "Triangle.__module__"
   ]
  },
  {
   "cell_type": "code",
   "execution_count": 79,
   "metadata": {},
   "outputs": [
    {
     "output_type": "execute_result",
     "data": {
      "text/plain": [
       "'Triangle'"
      ]
     },
     "metadata": {},
     "execution_count": 79
    }
   ],
   "source": [
    "Triangle.__name__"
   ]
  },
  {
   "cell_type": "code",
   "execution_count": 80,
   "metadata": {},
   "outputs": [
    {
     "output_type": "execute_result",
     "data": {
      "text/plain": [
       "mappingproxy({'__module__': '__main__',\n",
       "              '_Triangle__metric': {'Equilateral Triangle': 0,\n",
       "               'Isosceles triangle': 1,\n",
       "               'Scalene triangle': 2,\n",
       "               'Right': 3,\n",
       "               'Obtuse': 4,\n",
       "               'Acute': 5},\n",
       "              '__init__': <function __main__.Triangle.__init__(self, side_length, type_by_length_side='Equilateral Triangle', type_by_internal_angles='Right')>,\n",
       "              'Myedges': <function __main__.Triangle.Myedges(self)>,\n",
       "              '__doc__': None,\n",
       "              '__abstractmethods__': frozenset(),\n",
       "              '_abc_registry': <_weakrefset.WeakSet at 0x24df0961860>,\n",
       "              '_abc_cache': <_weakrefset.WeakSet at 0x24df0961048>,\n",
       "              '_abc_negative_cache': <_weakrefset.WeakSet at 0x24df09617b8>,\n",
       "              '_abc_negative_cache_version': 46})"
      ]
     },
     "metadata": {},
     "execution_count": 80
    }
   ],
   "source": [
    "Triangle.__dict__"
   ]
  },
  {
   "cell_type": "code",
   "execution_count": 81,
   "metadata": {},
   "outputs": [
    {
     "output_type": "execute_result",
     "data": {
      "text/plain": [
       "mappingproxy({'__module__': '__main__',\n",
       "              'Myedges': <classmethod at 0x24df0961438>,\n",
       "              'Area': <classmethod at 0x24df0961748>,\n",
       "              'Circumference': <classmethod at 0x24df0961470>,\n",
       "              '__doc__': None,\n",
       "              '__abstractmethods__': frozenset(),\n",
       "              '_abc_registry': <_weakrefset.WeakSet at 0x24df0961780>,\n",
       "              '_abc_cache': <_weakrefset.WeakSet at 0x24df0961668>,\n",
       "              '_abc_negative_cache': <_weakrefset.WeakSet at 0x24df0961e48>,\n",
       "              '_abc_negative_cache_version': 46})"
      ]
     },
     "metadata": {},
     "execution_count": 81
    }
   ],
   "source": [
    "Polygon.__dict__"
   ]
  },
  {
   "cell_type": "code",
   "execution_count": 112,
   "metadata": {},
   "outputs": [],
   "source": [
    "class A:\n",
    "    class_attr = 5 \n",
    "    \n",
    "    def __init__(self, ins_attr):\n",
    "        self.ins_attr = ins_attr\n",
    "    \n",
    "    def print_class_attr(self):\n",
    "        print(self.class_attr)\n",
    "    \n",
    "    def print_ins_attr(self):\n",
    "        print(self.ins_attr)\n"
   ]
  },
  {
   "cell_type": "code",
   "execution_count": 113,
   "metadata": {},
   "outputs": [],
   "source": [
    "b = A(1)"
   ]
  },
  {
   "cell_type": "code",
   "execution_count": 130,
   "metadata": {},
   "outputs": [],
   "source": [
    "b.__class__.__setattr__(b, 'class_attr', 12)\n"
   ]
  },
  {
   "cell_type": "code",
   "execution_count": 133,
   "metadata": {},
   "outputs": [],
   "source": [
    "A.class_attr = 'Changed'"
   ]
  },
  {
   "cell_type": "code",
   "execution_count": 134,
   "metadata": {},
   "outputs": [
    {
     "output_type": "execute_result",
     "data": {
      "text/plain": [
       "mappingproxy({'__module__': '__main__',\n",
       "              'class_attr': 'Changed',\n",
       "              '__init__': <function __main__.A.__init__(self, ins_attr)>,\n",
       "              'print_class_attr': <function __main__.A.print_class_attr(self)>,\n",
       "              'print_ins_attr': <function __main__.A.print_ins_attr(self)>,\n",
       "              '__dict__': <attribute '__dict__' of 'A' objects>,\n",
       "              '__weakref__': <attribute '__weakref__' of 'A' objects>,\n",
       "              '__doc__': None})"
      ]
     },
     "metadata": {},
     "execution_count": 134
    }
   ],
   "source": [
    "A.__dict__"
   ]
  },
  {
   "cell_type": "code",
   "execution_count": 116,
   "metadata": {},
   "outputs": [
    {
     "output_type": "execute_result",
     "data": {
      "text/plain": [
       "{'ins_attr': 1, 'class_attr': 10}"
      ]
     },
     "metadata": {},
     "execution_count": 116
    }
   ],
   "source": [
    "b.__dict__"
   ]
  },
  {
   "cell_type": "code",
   "execution_count": 99,
   "metadata": {},
   "outputs": [
    {
     "output_type": "execute_result",
     "data": {
      "text/plain": [
       "{'ins_attr': 1}"
      ]
     },
     "metadata": {},
     "execution_count": 99
    }
   ],
   "source": [
    "b.__dict__"
   ]
  },
  {
   "cell_type": "code",
   "execution_count": 100,
   "metadata": {},
   "outputs": [
    {
     "output_type": "execute_result",
     "data": {
      "text/plain": [
       "mappingproxy({'__module__': '__main__',\n",
       "              'class_attr': 5,\n",
       "              '__init__': <function __main__.A.__init__(self, ins_attr)>,\n",
       "              'print_class_attr': <function __main__.A.print_class_attr(self)>,\n",
       "              'print_ins_attr': <function __main__.A.print_ins_attr(self)>,\n",
       "              '__dict__': <attribute '__dict__' of 'A' objects>,\n",
       "              '__weakref__': <attribute '__weakref__' of 'A' objects>,\n",
       "              '__doc__': None})"
      ]
     },
     "metadata": {},
     "execution_count": 100
    }
   ],
   "source": [
    "A.__dict__"
   ]
  },
  {
   "cell_type": "code",
   "execution_count": 104,
   "metadata": {},
   "outputs": [
    {
     "output_type": "execute_result",
     "data": {
      "text/plain": [
       "{'ins_attr': 1}"
      ]
     },
     "metadata": {},
     "execution_count": 104
    }
   ],
   "source": [
    "b.__dict__"
   ]
  },
  {
   "cell_type": "code",
   "execution_count": 105,
   "metadata": {},
   "outputs": [
    {
     "output_type": "execute_result",
     "data": {
      "text/plain": [
       "(object,)"
      ]
     },
     "metadata": {},
     "execution_count": 105
    }
   ],
   "source": [
    "A.__bases__"
   ]
  },
  {
   "cell_type": "code",
   "execution_count": 106,
   "metadata": {},
   "outputs": [],
   "source": [
    "b.new_attr = (0 ,1)"
   ]
  },
  {
   "cell_type": "code",
   "execution_count": 107,
   "metadata": {},
   "outputs": [
    {
     "output_type": "execute_result",
     "data": {
      "text/plain": [
       "{'ins_attr': 1, 'new_attr': (0, 1)}"
      ]
     },
     "metadata": {},
     "execution_count": 107
    }
   ],
   "source": [
    "b.__dict__"
   ]
  },
  {
   "cell_type": "code",
   "execution_count": 108,
   "metadata": {},
   "outputs": [
    {
     "output_type": "execute_result",
     "data": {
      "text/plain": [
       "mappingproxy({'__module__': '__main__',\n",
       "              'class_attr': 5,\n",
       "              '__init__': <function __main__.A.__init__(self, ins_attr)>,\n",
       "              'print_class_attr': <function __main__.A.print_class_attr(self)>,\n",
       "              'print_ins_attr': <function __main__.A.print_ins_attr(self)>,\n",
       "              '__dict__': <attribute '__dict__' of 'A' objects>,\n",
       "              '__weakref__': <attribute '__weakref__' of 'A' objects>,\n",
       "              '__doc__': None})"
      ]
     },
     "metadata": {},
     "execution_count": 108
    }
   ],
   "source": [
    "A.__dict__"
   ]
  },
  {
   "cell_type": "code",
   "execution_count": null,
   "metadata": {},
   "outputs": [],
   "source": []
  }
 ]
}