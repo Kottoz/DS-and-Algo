{
 "metadata": {
  "language_info": {
   "codemirror_mode": {
    "name": "ipython",
    "version": 3
   },
   "file_extension": ".py",
   "mimetype": "text/x-python",
   "name": "python",
   "nbconvert_exporter": "python",
   "pygments_lexer": "ipython3",
   "version": "3.6.12-final"
  },
  "orig_nbformat": 2,
  "kernelspec": {
   "name": "python3",
   "display_name": "Python 3",
   "language": "python"
  }
 },
 "nbformat": 4,
 "nbformat_minor": 2,
 "cells": [
  {
   "source": [
    "### Abstraction Data Type **(ADT)**."
   ],
   "cell_type": "markdown",
   "metadata": {}
  },
  {
   "cell_type": "code",
   "execution_count": 7,
   "metadata": {},
   "outputs": [],
   "source": [
    "from abc import ABC\n",
    "class Polygon(ABC):\n",
    "    \n",
    "    @classmethod\n",
    "    def Myedges(self):\n",
    "        pass \n",
    "\n",
    "    @classmethod\n",
    "    def Area(self):\n",
    "        pass \n",
    "\n",
    "    @classmethod\n",
    "    def Circumference(self):\n",
    "        pass \n",
    "\n",
    "class Triangle(Polygon):\n",
    "\n",
    "    __metric = {\n",
    "        \"Equilateral Triangle\": 0,\n",
    "        \"Isosceles triangle\" : 1,\n",
    "        \"Scalene triangle\" : 2,\n",
    "        \"Right\" : 3,\n",
    "        \"Obtuse\" : 4,\n",
    "        \"Acute\" : 5\n",
    "    }\n",
    "\n",
    "    def __init__(self, side_length, type_by_length_side='Equilateral Triangle', type_by_internal_angles='Right'):\n",
    "        self.side_length = side_length\n",
    "        self.type_by_internal_angles = type_by_internal_angles\n",
    "        self.type_by_length_side = type_by_length_side\n",
    "        self.no_sides  = 3\n",
    "\n",
    "    def Myedges(self):\n",
    "        return \"i have %s edges\"%(self.no_sides)\n",
    "\n",
    "class Square(Polygon):\n",
    "\n",
    "    __metric = {\n",
    "            \"\"\"\n",
    "            Its own metric\n",
    "            \"\"\"\n",
    "    }\n",
    "\n",
    "    def __init__(self, side_length):\n",
    "        self.side_length = side_length\n",
    "        self.no_sides  = 4\n",
    "\n",
    "    def Myedges(self):\n",
    "        return \"i have %s edges\"%(self.no_sides)"
   ]
  },
  {
   "cell_type": "code",
   "execution_count": 10,
   "metadata": {},
   "outputs": [],
   "source": [
    "trig1 = Triangle(5)\n",
    "sq1 = Square(3)"
   ]
  },
  {
   "cell_type": "code",
   "execution_count": 11,
   "metadata": {},
   "outputs": [
    {
     "output_type": "execute_result",
     "data": {
      "text/plain": [
       "'i have 3 edges'"
      ]
     },
     "metadata": {},
     "execution_count": 11
    }
   ],
   "source": [
    "trig1.Myedges()"
   ]
  },
  {
   "cell_type": "code",
   "execution_count": 12,
   "metadata": {},
   "outputs": [
    {
     "output_type": "execute_result",
     "data": {
      "text/plain": [
       "'i have 4 edges'"
      ]
     },
     "metadata": {},
     "execution_count": 12
    }
   ],
   "source": [
    "sq1.Myedges()"
   ]
  },
  {
   "source": [
    "Concrete classes contain only concrete (normal)methods whereas abstract classes may contains both concrete methods and abstract methods. Concrete class provide an implementation of abstract methods, the abstract base class can also provide an implementation by invoking the methods via super().\n",
    "Let look over the example to invoke the method using super():\n",
    "\n",
    "we can invoke the methods in abstract classes by using super()."
   ],
   "cell_type": "markdown",
   "metadata": {}
  },
  {
   "cell_type": "code",
   "execution_count": 15,
   "metadata": {},
   "outputs": [
    {
     "output_type": "stream",
     "name": "stdout",
     "text": [
      "Abstract Base Class\nsubclass \n"
     ]
    }
   ],
   "source": [
    "import abc \n",
    "from abc import ABC, abstractmethod \n",
    "  \n",
    "class R(ABC): \n",
    "    def rk(self): \n",
    "        print(\"Abstract Base Class\") \n",
    "  \n",
    "class K(R): \n",
    "    def rk(self): \n",
    "        super().rk() \n",
    "        print(\"subclass \") \n",
    "  \n",
    "# Driver code \n",
    "r = K() \n",
    "r.rk()"
   ]
  }
 ]
}